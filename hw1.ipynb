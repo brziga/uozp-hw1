{
 "cells": [
  {
   "cell_type": "code",
   "execution_count": 1,
   "metadata": {},
   "outputs": [],
   "source": [
    "#dependency install\n",
    "# %pip install pandas\n",
    "# %pip install openpyxl"
   ]
  },
  {
   "cell_type": "code",
   "execution_count": 2,
   "metadata": {},
   "outputs": [],
   "source": [
    "#imports\n",
    "import csv\n",
    "import pandas as pd\n",
    "import hw0\n",
    "import matplotlib.pyplot as plt\n",
    "from scipy.cluster import hierarchy"
   ]
  },
  {
   "cell_type": "code",
   "execution_count": 3,
   "metadata": {},
   "outputs": [],
   "source": [
    "NAN = float(\"nan\")"
   ]
  },
  {
   "cell_type": "code",
   "execution_count": 4,
   "metadata": {},
   "outputs": [],
   "source": [
    "class HierarchicalClusteringHW1(hw0.HierarchicalClustering):\n",
    "    def __init__(self, cluster_dist, silh_fun, return_distances=False, return_for_dendrogram=False):\n",
    "        # the function that measures distances clusters (lists of data vectors)\n",
    "        self.cluster_dist = cluster_dist\n",
    "\n",
    "        # if the results of run() also needs to include distances;\n",
    "        # if true, each joined pair in also described by a distance.\n",
    "        self.return_distances = return_distances\n",
    "        self.return_for_dendrogram = return_for_dendrogram\n",
    "        self.silh_fun = silh_fun\n",
    "\n",
    "    def run(self, data):\n",
    "        \"\"\"\n",
    "        Performs hierarchical clustering until there is only a single cluster left\n",
    "        and return a recursive structure of clusters.\n",
    "        \"\"\"\n",
    "\n",
    "        # clusters stores current clustering. It starts as a list of lists\n",
    "        # of single elements, but then evolves into lists like\n",
    "        # [[[\"Albert\"], [[\"Branka\"], [\"Cene\"]]], [[\"Nika\"], [\"Polona\"]]]\n",
    "        clusters = [[name] for name in data.keys()]\n",
    "\n",
    "        if self.return_for_dendrogram:\n",
    "            linkages = []\n",
    "\n",
    "        if self.return_for_dendrogram:\n",
    "            avgSilhs = []\n",
    "            avgSilhs.append((len(clusters), self.silh_fun(data, clusters)))\n",
    "\n",
    "        while len(clusters) >= 2:\n",
    "            first, second, distance = self.closest_clusters(data, clusters)\n",
    "            # update the \"clusters\" variable\n",
    "\n",
    "            if self.return_for_dendrogram:\n",
    "                linkages.append([first, second, distance, 2])\n",
    "            \n",
    "            firstIndex, secondIndex = clusters.index(first), clusters.index(second)\n",
    "            if self.return_distances:\n",
    "                newClusters = [ [clusters[firstIndex], clusters[secondIndex], distance] ]\n",
    "            else:\n",
    "                newClusters = [ [clusters[firstIndex], clusters[secondIndex]] ]\n",
    "            for cluster in clusters:\n",
    "                if cluster == first or cluster == second: continue\n",
    "                newClusters.append(cluster)\n",
    "            clusters = newClusters\n",
    "\n",
    "            if self.return_for_dendrogram:\n",
    "                avgSilhs.append((len(clusters), self.silh_fun(data, clusters)))\n",
    "\n",
    "        return (clusters,) if not self.return_for_dendrogram else (clusters, linkages, avgSilhs) "
   ]
  },
  {
   "cell_type": "code",
   "execution_count": 5,
   "metadata": {},
   "outputs": [],
   "source": [
    "def silhouette(el, clusters, data):\n",
    "    \"\"\"\n",
    "    Za element el ob podanih podatkih data (slovar vektorjev) in skupinah\n",
    "    (seznam seznamov nizov: ključev v slovarju data) vrni silhueto za element el.\n",
    "    \"\"\"\n",
    "\n",
    "    if len(clusters) < 2: return NAN\n",
    "\n",
    "    distanceFunc = hw0.euclidean_dist\n",
    "    linkageFunc = hw0.average_linkage\n",
    "\n",
    "    # find out what cluster contains the element\n",
    "    belongId = None\n",
    "    for i in range(len(clusters)):\n",
    "        flatClusterI = hw0.flatten(clusters[i])\n",
    "        if el in flatClusterI: \n",
    "            belongId = i\n",
    "            break\n",
    "    \n",
    "    elData = data[el]\n",
    "\n",
    "    # calc a\n",
    "    aDistances = []\n",
    "    flatClusterBI = hw0.flatten(clusters[belongId])\n",
    "    for clusterEl in flatClusterBI:\n",
    "        if clusterEl == el: continue\n",
    "        ceData = data[clusterEl]\n",
    "        aDistances.append(distanceFunc(elData, ceData))\n",
    "    a = sum(aDistances)/len(aDistances) if len(aDistances)>0 else 0\n",
    "    if a == 0: return 0 # thanks https://en.wikipedia.org/wiki/Silhouette_(clustering)#:~:text=Note%20that%20a(i)%20is%20not%20clearly%20defined%20for%20clusters%20with%20size%20%3D%201%2C%20in%20which%20case%20we%20set\n",
    "\n",
    "    #calc b\n",
    "    #   find closest cluster\n",
    "    closestClusterId = None\n",
    "    closestClusterDist = None\n",
    "    for i in range(len(clusters)):\n",
    "        if i == belongId: continue\n",
    "\n",
    "        belongCluster = []\n",
    "        for index in hw0.flatten(clusters[belongId]):\n",
    "            belongCluster.append(data[index])\n",
    "\n",
    "        compareCluster = []\n",
    "        for index in hw0.flatten(clusters[i]):\n",
    "            compareCluster.append(data[index])\n",
    "\n",
    "        distance = linkageFunc(belongCluster, compareCluster, distanceFunc)\n",
    "        if closestClusterDist is None or distance < closestClusterDist:\n",
    "            closestClusterDist = distance\n",
    "            closestClusterId = i\n",
    "    \n",
    "    bDistances = []\n",
    "    for clusterEl in hw0.flatten(clusters[closestClusterId]):\n",
    "        ceData = data[clusterEl]\n",
    "        bDistances.append(distanceFunc(elData, ceData))\n",
    "    b = sum(bDistances)/len(bDistances)\n",
    "\n",
    "    s = (b - a) / max(a, b) if max(a, b) != 0 else NAN\n",
    "    return s\n",
    "\n",
    "\n",
    "def silhouette_average(data, clusters):\n",
    "    \"\"\"\n",
    "    Za podane podatke (slovar vektorjev) in skupine (seznam seznamov nizov:\n",
    "    ključev v slovarju data) vrni povprečno silhueto.\n",
    "    \"\"\"\n",
    "    dataKeys = list(data.keys())\n",
    "    silhs = []\n",
    "    for key in dataKeys:\n",
    "        calculatedSilh = silhouette(key, clusters, data)\n",
    "        if calculatedSilh == calculatedSilh:\n",
    "            silhs.append(silhouette(key, clusters, data))\n",
    "    avgS = sum(silhs)/len(silhs) if len(silhs) > 0 else NAN\n",
    "    \n",
    "    return avgS"
   ]
  },
  {
   "cell_type": "markdown",
   "metadata": {},
   "source": [
    "### Reading the data"
   ]
  },
  {
   "cell_type": "code",
   "execution_count": 6,
   "metadata": {},
   "outputs": [],
   "source": [
    "# #read CSV\n",
    "# rawDataHeader = []\n",
    "# rawData = []\n",
    "# with open(\"eurovision_song_contest_1957_2023.csv\") as csvfile:\n",
    "#     reader = csv.reader(csvfile, delimiter=\",\")\n",
    "#     rawDataHeader = next(reader)\n",
    "#     for row in reader:\n",
    "#         rawData.append(row)"
   ]
  },
  {
   "cell_type": "code",
   "execution_count": 7,
   "metadata": {},
   "outputs": [],
   "source": [
    "pathOriginalDataFile = \"data/eurovision_song_contest_1957_2023.xlsx\"\n",
    "origDataFrame = pd.read_excel(pathOriginalDataFile)"
   ]
  },
  {
   "cell_type": "code",
   "execution_count": 8,
   "metadata": {},
   "outputs": [
    {
     "data": {
      "text/plain": [
       "'Points      '"
      ]
     },
     "execution_count": 8,
     "metadata": {},
     "output_type": "execute_result"
    }
   ],
   "source": [
    "origDataFrame.keys()[6]"
   ]
  },
  {
   "cell_type": "code",
   "execution_count": 9,
   "metadata": {},
   "outputs": [
    {
     "name": "stdout",
     "output_type": "stream",
     "text": [
      "\"Points      \"\n",
      "\"Points\"\n"
     ]
    }
   ],
   "source": [
    "#fixing this bug-inducing column/attribute name\n",
    "oldkey = origDataFrame.keys()[6]\n",
    "newkey = origDataFrame.keys()[6].rstrip()\n",
    "print(\"\\\"{}\\\"\".format(oldkey))\n",
    "print(\"\\\"{}\\\"\".format(newkey))\n",
    "origDataFrame.rename(columns={oldkey : newkey}, inplace=True)"
   ]
  },
  {
   "cell_type": "code",
   "execution_count": 10,
   "metadata": {},
   "outputs": [
    {
     "data": {
      "text/plain": [
       "'Points'"
      ]
     },
     "execution_count": 10,
     "metadata": {},
     "output_type": "execute_result"
    }
   ],
   "source": [
    "origDataFrame.keys()[6]"
   ]
  },
  {
   "cell_type": "markdown",
   "metadata": {},
   "source": [
    "## Version 1"
   ]
  },
  {
   "cell_type": "markdown",
   "metadata": {},
   "source": [
    "### Data preparation"
   ]
  },
  {
   "cell_type": "markdown",
   "metadata": {},
   "source": [
    "Poskusimo tako, da oblikujemo tabelo, kjer so vrstice glasujoče države, stolpci pa države, za katere so glasovale. V celicah so števila točk glasovanja. Stolpci z glasovi so za vsako leto posebej, leta dodamo tabeli (širimo v desno)."
   ]
  },
  {
   "cell_type": "code",
   "execution_count": null,
   "metadata": {},
   "outputs": [],
   "source": [
    "#drop entries that aren't for finals\n",
    "prep1orig = origDataFrame[origDataFrame[\"(semi-) final\"] == \"f\"]"
   ]
  },
  {
   "cell_type": "code",
   "execution_count": null,
   "metadata": {},
   "outputs": [],
   "source": [
    "prep1years = prep1orig[\"Year\"].unique()\n",
    "prep1voters = prep1orig[\"From country\"].unique()\n",
    "prep1votedFor = prep1orig[\"To country\"].unique()\n",
    "\n",
    "prep1data = {}\n",
    "for i in range(len(prep1voters)):\n",
    "    voter = prep1voters[i]\n",
    "    prep1data[voter] = []\n",
    "\n",
    "for year in prep1years:\n",
    "    yearSelection = prep1orig[prep1orig[\"Year\"] == year]\n",
    "    for voter in prep1voters:\n",
    "        voterSelection = yearSelection[yearSelection[\"From country\"] == voter]\n",
    "        newVotes = []\n",
    "        for votedFor in prep1votedFor:\n",
    "            lineSelection = voterSelection[voterSelection[\"To country\"] == votedFor]\n",
    "            newVoteVal = NAN\n",
    "            if len(lineSelection[\"Points\"].values) > 0:\n",
    "                newVoteVal = lineSelection[\"Points\"].values[0]\n",
    "            newVotes.append(newVoteVal)\n",
    "        prep1data[voter] += newVotes"
   ]
  },
  {
   "cell_type": "markdown",
   "metadata": {},
   "source": [
    "### Clustering"
   ]
  },
  {
   "cell_type": "code",
   "execution_count": null,
   "metadata": {},
   "outputs": [],
   "source": [
    "#params\n",
    "distance1 = hw0.euclidean_dist\n",
    "linkage1 = hw0.single_linkage\n",
    "distFun1 = lambda c1, c2: linkage1(c1, c2, distance1)\n",
    "silhFun1 = silhouette_average"
   ]
  },
  {
   "cell_type": "code",
   "execution_count": null,
   "metadata": {},
   "outputs": [],
   "source": [
    "hc1 = HierarchicalClusteringHW1(distFun1, silhFun1, return_distances=False, return_for_dendrogram=True)\n",
    "clusters1 = hc1.run(prep1data)"
   ]
  },
  {
   "cell_type": "markdown",
   "metadata": {},
   "source": [
    "### Visualization"
   ]
  },
  {
   "cell_type": "code",
   "execution_count": null,
   "metadata": {},
   "outputs": [],
   "source": [
    "vis1codex = [[v] for v in prep1voters]\n",
    "linkages1 = clusters1[1]\n",
    "for line in linkages1:\n",
    "    if line[0] not in vis1codex:\n",
    "        vis1codex.append(line[0])\n",
    "    if line[1] not in vis1codex:\n",
    "        vis1codex.append(line[1])\n",
    "    line[0] = vis1codex.index(line[0])\n",
    "    line[1] = vis1codex.index(line[1])\n"
   ]
  },
  {
   "cell_type": "code",
   "execution_count": null,
   "metadata": {},
   "outputs": [],
   "source": [
    "# Plot dendrogram\n",
    "plt.figure(figsize=(20, 10))\n",
    "dn = hierarchy.dendrogram(linkages1, labels=prep1voters)\n",
    "\n",
    "# Show plot\n",
    "plt.show()"
   ]
  },
  {
   "cell_type": "code",
   "execution_count": null,
   "metadata": {},
   "outputs": [],
   "source": [
    "clusters1[2]"
   ]
  },
  {
   "cell_type": "code",
   "execution_count": null,
   "metadata": {},
   "outputs": [],
   "source": [
    "vis1silGraphX, vis1silGraphY = zip(*clusters1[2])\n",
    "\n",
    "plt.scatter(vis1silGraphX, vis1silGraphY)\n",
    "plt.xlabel('Number of clusters')\n",
    "plt.ylabel('Silhouette')\n",
    "plt.grid(True)\n",
    "plt.show()"
   ]
  }
 ],
 "metadata": {
  "kernelspec": {
   "display_name": "Python 3",
   "language": "python",
   "name": "python3"
  },
  "language_info": {
   "codemirror_mode": {
    "name": "ipython",
    "version": 3
   },
   "file_extension": ".py",
   "mimetype": "text/x-python",
   "name": "python",
   "nbconvert_exporter": "python",
   "pygments_lexer": "ipython3",
   "version": "3.11.2"
  }
 },
 "nbformat": 4,
 "nbformat_minor": 2
}
