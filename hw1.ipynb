{
 "cells": [
  {
   "cell_type": "code",
   "execution_count": 6,
   "metadata": {},
   "outputs": [
    {
     "name": "stdout",
     "output_type": "stream",
     "text": [
      "Defaulting to user installation because normal site-packages is not writeable\n",
      "Requirement already satisfied: pandas in c:\\users\\ziga\\appdata\\roaming\\python\\python311\\site-packages (2.1.1)\n",
      "Requirement already satisfied: numpy>=1.23.2 in c:\\users\\ziga\\appdata\\roaming\\python\\python311\\site-packages (from pandas) (1.26.1)\n",
      "Requirement already satisfied: python-dateutil>=2.8.2 in c:\\users\\ziga\\appdata\\roaming\\python\\python311\\site-packages (from pandas) (2.8.2)\n",
      "Requirement already satisfied: pytz>=2020.1 in c:\\users\\ziga\\appdata\\roaming\\python\\python311\\site-packages (from pandas) (2023.3.post1)\n",
      "Requirement already satisfied: tzdata>=2022.1 in c:\\users\\ziga\\appdata\\roaming\\python\\python311\\site-packages (from pandas) (2023.3)\n",
      "Requirement already satisfied: six>=1.5 in c:\\users\\ziga\\appdata\\roaming\\python\\python311\\site-packages (from python-dateutil>=2.8.2->pandas) (1.16.0)\n"
     ]
    },
    {
     "name": "stderr",
     "output_type": "stream",
     "text": [
      "\n",
      "[notice] A new release of pip is available: 23.3.1 -> 24.0\n",
      "[notice] To update, run: python.exe -m pip install --upgrade pip\n"
     ]
    },
    {
     "name": "stdout",
     "output_type": "stream",
     "text": [
      "Defaulting to user installation because normal site-packages is not writeable\n",
      "Requirement already satisfied: openpyxl in c:\\users\\ziga\\appdata\\roaming\\python\\python311\\site-packages (3.1.2)\n",
      "Requirement already satisfied: et-xmlfile in c:\\users\\ziga\\appdata\\roaming\\python\\python311\\site-packages (from openpyxl) (1.1.0)\n"
     ]
    },
    {
     "name": "stderr",
     "output_type": "stream",
     "text": [
      "\n",
      "[notice] A new release of pip is available: 23.3.1 -> 24.0\n",
      "[notice] To update, run: python.exe -m pip install --upgrade pip\n"
     ]
    }
   ],
   "source": [
    "!pip install pandas\n",
    "!pip install openpyxl"
   ]
  },
  {
   "cell_type": "code",
   "execution_count": 7,
   "metadata": {},
   "outputs": [],
   "source": [
    "#imports\n",
    "import csv\n",
    "import pandas as pd"
   ]
  },
  {
   "cell_type": "markdown",
   "metadata": {},
   "source": [
    "### Reading the data"
   ]
  },
  {
   "cell_type": "code",
   "execution_count": 8,
   "metadata": {},
   "outputs": [],
   "source": [
    "# #read CSV\n",
    "# rawDataHeader = []\n",
    "# rawData = []\n",
    "# with open(\"eurovision_song_contest_1957_2023.csv\") as csvfile:\n",
    "#     reader = csv.reader(csvfile, delimiter=\",\")\n",
    "#     rawDataHeader = next(reader)\n",
    "#     for row in reader:\n",
    "#         rawData.append(row)"
   ]
  },
  {
   "cell_type": "code",
   "execution_count": 9,
   "metadata": {},
   "outputs": [],
   "source": [
    "pathOriginalDataFile = \"data/eurovision_song_contest_1957_2023.xlsx\"\n",
    "origDataFrame = pd.read_excel(pathOriginalDataFile)"
   ]
  },
  {
   "cell_type": "code",
   "execution_count": 10,
   "metadata": {},
   "outputs": [
    {
     "data": {
      "text/html": [
       "<div>\n",
       "<style scoped>\n",
       "    .dataframe tbody tr th:only-of-type {\n",
       "        vertical-align: middle;\n",
       "    }\n",
       "\n",
       "    .dataframe tbody tr th {\n",
       "        vertical-align: top;\n",
       "    }\n",
       "\n",
       "    .dataframe thead th {\n",
       "        text-align: right;\n",
       "    }\n",
       "</style>\n",
       "<table border=\"1\" class=\"dataframe\">\n",
       "  <thead>\n",
       "    <tr style=\"text-align: right;\">\n",
       "      <th></th>\n",
       "      <th>Year</th>\n",
       "      <th>(semi-) final</th>\n",
       "      <th>Edition</th>\n",
       "      <th>Jury or Televoting</th>\n",
       "      <th>From country</th>\n",
       "      <th>To country</th>\n",
       "      <th>Points</th>\n",
       "      <th>Duplicate</th>\n",
       "    </tr>\n",
       "  </thead>\n",
       "  <tbody>\n",
       "    <tr>\n",
       "      <th>0</th>\n",
       "      <td>1957</td>\n",
       "      <td>f</td>\n",
       "      <td>1957f</td>\n",
       "      <td>J</td>\n",
       "      <td>Austria</td>\n",
       "      <td>Austria</td>\n",
       "      <td>0</td>\n",
       "      <td>x</td>\n",
       "    </tr>\n",
       "    <tr>\n",
       "      <th>1</th>\n",
       "      <td>1957</td>\n",
       "      <td>f</td>\n",
       "      <td>1957f</td>\n",
       "      <td>J</td>\n",
       "      <td>Austria</td>\n",
       "      <td>Belgium</td>\n",
       "      <td>0</td>\n",
       "      <td>NaN</td>\n",
       "    </tr>\n",
       "    <tr>\n",
       "      <th>2</th>\n",
       "      <td>1957</td>\n",
       "      <td>f</td>\n",
       "      <td>1957f</td>\n",
       "      <td>J</td>\n",
       "      <td>Austria</td>\n",
       "      <td>Denmark</td>\n",
       "      <td>0</td>\n",
       "      <td>NaN</td>\n",
       "    </tr>\n",
       "    <tr>\n",
       "      <th>3</th>\n",
       "      <td>1957</td>\n",
       "      <td>f</td>\n",
       "      <td>1957f</td>\n",
       "      <td>J</td>\n",
       "      <td>Austria</td>\n",
       "      <td>France</td>\n",
       "      <td>0</td>\n",
       "      <td>NaN</td>\n",
       "    </tr>\n",
       "    <tr>\n",
       "      <th>4</th>\n",
       "      <td>1957</td>\n",
       "      <td>f</td>\n",
       "      <td>1957f</td>\n",
       "      <td>J</td>\n",
       "      <td>Austria</td>\n",
       "      <td>Germany</td>\n",
       "      <td>0</td>\n",
       "      <td>NaN</td>\n",
       "    </tr>\n",
       "    <tr>\n",
       "      <th>...</th>\n",
       "      <td>...</td>\n",
       "      <td>...</td>\n",
       "      <td>...</td>\n",
       "      <td>...</td>\n",
       "      <td>...</td>\n",
       "      <td>...</td>\n",
       "      <td>...</td>\n",
       "      <td>...</td>\n",
       "    </tr>\n",
       "    <tr>\n",
       "      <th>61813</th>\n",
       "      <td>2023</td>\n",
       "      <td>f</td>\n",
       "      <td>2023f</td>\n",
       "      <td>J</td>\n",
       "      <td>United Kingdom</td>\n",
       "      <td>Estonia</td>\n",
       "      <td>6</td>\n",
       "      <td>NaN</td>\n",
       "    </tr>\n",
       "    <tr>\n",
       "      <th>61814</th>\n",
       "      <td>2023</td>\n",
       "      <td>f</td>\n",
       "      <td>2023f</td>\n",
       "      <td>J</td>\n",
       "      <td>United Kingdom</td>\n",
       "      <td>Belgium</td>\n",
       "      <td>7</td>\n",
       "      <td>NaN</td>\n",
       "    </tr>\n",
       "    <tr>\n",
       "      <th>61815</th>\n",
       "      <td>2023</td>\n",
       "      <td>f</td>\n",
       "      <td>2023f</td>\n",
       "      <td>J</td>\n",
       "      <td>United Kingdom</td>\n",
       "      <td>Lithuania</td>\n",
       "      <td>8</td>\n",
       "      <td>NaN</td>\n",
       "    </tr>\n",
       "    <tr>\n",
       "      <th>61816</th>\n",
       "      <td>2023</td>\n",
       "      <td>f</td>\n",
       "      <td>2023f</td>\n",
       "      <td>J</td>\n",
       "      <td>United Kingdom</td>\n",
       "      <td>Australia</td>\n",
       "      <td>10</td>\n",
       "      <td>NaN</td>\n",
       "    </tr>\n",
       "    <tr>\n",
       "      <th>61817</th>\n",
       "      <td>2023</td>\n",
       "      <td>f</td>\n",
       "      <td>2023f</td>\n",
       "      <td>J</td>\n",
       "      <td>United Kingdom</td>\n",
       "      <td>Sweden</td>\n",
       "      <td>12</td>\n",
       "      <td>NaN</td>\n",
       "    </tr>\n",
       "  </tbody>\n",
       "</table>\n",
       "<p>61818 rows × 8 columns</p>\n",
       "</div>"
      ],
      "text/plain": [
       "       Year (semi-) final Edition Jury or Televoting    From country  \\\n",
       "0      1957             f   1957f                  J         Austria   \n",
       "1      1957             f   1957f                  J         Austria   \n",
       "2      1957             f   1957f                  J         Austria   \n",
       "3      1957             f   1957f                  J         Austria   \n",
       "4      1957             f   1957f                  J         Austria   \n",
       "...     ...           ...     ...                ...             ...   \n",
       "61813  2023             f   2023f                  J  United Kingdom   \n",
       "61814  2023             f   2023f                  J  United Kingdom   \n",
       "61815  2023             f   2023f                  J  United Kingdom   \n",
       "61816  2023             f   2023f                  J  United Kingdom   \n",
       "61817  2023             f   2023f                  J  United Kingdom   \n",
       "\n",
       "      To country  Points       Duplicate  \n",
       "0        Austria             0         x  \n",
       "1        Belgium             0       NaN  \n",
       "2        Denmark             0       NaN  \n",
       "3         France             0       NaN  \n",
       "4        Germany             0       NaN  \n",
       "...          ...           ...       ...  \n",
       "61813    Estonia             6       NaN  \n",
       "61814    Belgium             7       NaN  \n",
       "61815  Lithuania             8       NaN  \n",
       "61816  Australia            10       NaN  \n",
       "61817     Sweden            12       NaN  \n",
       "\n",
       "[61818 rows x 8 columns]"
      ]
     },
     "execution_count": 10,
     "metadata": {},
     "output_type": "execute_result"
    }
   ],
   "source": [
    "origDataFrame"
   ]
  }
 ],
 "metadata": {
  "kernelspec": {
   "display_name": "Python 3",
   "language": "python",
   "name": "python3"
  },
  "language_info": {
   "codemirror_mode": {
    "name": "ipython",
    "version": 3
   },
   "file_extension": ".py",
   "mimetype": "text/x-python",
   "name": "python",
   "nbconvert_exporter": "python",
   "pygments_lexer": "ipython3",
   "version": "3.11.2"
  }
 },
 "nbformat": 4,
 "nbformat_minor": 2
}
