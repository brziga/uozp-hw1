{
 "cells": [
  {
   "cell_type": "code",
   "execution_count": 1,
   "metadata": {},
   "outputs": [],
   "source": [
    "#dependency install\n",
    "# %pip install pandas\n",
    "# %pip install openpyxl"
   ]
  },
  {
   "cell_type": "code",
   "execution_count": 25,
   "metadata": {},
   "outputs": [],
   "source": [
    "#imports\n",
    "import csv\n",
    "import pandas as pd\n",
    "import hw0\n",
    "import matplotlib.pyplot as plt\n",
    "from scipy.cluster import hierarchy"
   ]
  },
  {
   "cell_type": "code",
   "execution_count": 3,
   "metadata": {},
   "outputs": [],
   "source": [
    "NAN = float(\"nan\")"
   ]
  },
  {
   "cell_type": "markdown",
   "metadata": {},
   "source": [
    "### Reading the data"
   ]
  },
  {
   "cell_type": "code",
   "execution_count": 4,
   "metadata": {},
   "outputs": [],
   "source": [
    "# #read CSV\n",
    "# rawDataHeader = []\n",
    "# rawData = []\n",
    "# with open(\"eurovision_song_contest_1957_2023.csv\") as csvfile:\n",
    "#     reader = csv.reader(csvfile, delimiter=\",\")\n",
    "#     rawDataHeader = next(reader)\n",
    "#     for row in reader:\n",
    "#         rawData.append(row)"
   ]
  },
  {
   "cell_type": "code",
   "execution_count": 5,
   "metadata": {},
   "outputs": [],
   "source": [
    "pathOriginalDataFile = \"data/eurovision_song_contest_1957_2023.xlsx\"\n",
    "origDataFrame = pd.read_excel(pathOriginalDataFile)"
   ]
  },
  {
   "cell_type": "code",
   "execution_count": 6,
   "metadata": {},
   "outputs": [
    {
     "data": {
      "text/plain": [
       "'Points      '"
      ]
     },
     "execution_count": 6,
     "metadata": {},
     "output_type": "execute_result"
    }
   ],
   "source": [
    "origDataFrame.keys()[6]"
   ]
  },
  {
   "cell_type": "code",
   "execution_count": 7,
   "metadata": {},
   "outputs": [
    {
     "name": "stdout",
     "output_type": "stream",
     "text": [
      "\"Points      \"\n",
      "\"Points\"\n"
     ]
    }
   ],
   "source": [
    "#fixing this bug-inducing column/attribute name\n",
    "oldkey = origDataFrame.keys()[6]\n",
    "newkey = origDataFrame.keys()[6].rstrip()\n",
    "print(\"\\\"{}\\\"\".format(oldkey))\n",
    "print(\"\\\"{}\\\"\".format(newkey))\n",
    "origDataFrame.rename(columns={oldkey : newkey}, inplace=True)"
   ]
  },
  {
   "cell_type": "code",
   "execution_count": 8,
   "metadata": {},
   "outputs": [
    {
     "data": {
      "text/plain": [
       "'Points'"
      ]
     },
     "execution_count": 8,
     "metadata": {},
     "output_type": "execute_result"
    }
   ],
   "source": [
    "origDataFrame.keys()[6]"
   ]
  },
  {
   "cell_type": "markdown",
   "metadata": {},
   "source": [
    "## Version 1"
   ]
  },
  {
   "cell_type": "markdown",
   "metadata": {},
   "source": [
    "### Data preparation"
   ]
  },
  {
   "cell_type": "markdown",
   "metadata": {},
   "source": [
    "Poskusimo tako, da oblikujemo tabelo, kjer so vrstice glasujoče države, stolpci pa države, za katere so glasovale. V celicah so števila točk glasovanja. Stolpci z glasovi so za vsako leto posebej, leta dodamo tabeli (širimo v desno)."
   ]
  },
  {
   "cell_type": "code",
   "execution_count": 9,
   "metadata": {},
   "outputs": [],
   "source": [
    "#drop entries that aren't for finals\n",
    "prep1orig = origDataFrame[origDataFrame[\"(semi-) final\"] == \"f\"]"
   ]
  },
  {
   "cell_type": "code",
   "execution_count": 10,
   "metadata": {},
   "outputs": [],
   "source": [
    "# to je kr neki, ne dela - pridejo razlicno dolgi vektorji\n",
    "\n",
    "# #extract uniques\n",
    "# prep1years = prep1orig[\"Year\"].unique()\n",
    "# prep1voters = prep1orig[\"From country\"].unique()\n",
    "# prep1votedFor = prep1orig[\"To country\"].unique()\n",
    "\n",
    "# #prepare the data structure\n",
    "# prep1data = {}\n",
    "# for voterCountry in prep1voters:\n",
    "#     prep1data[voterCountry] = {\"keys\" : [], \"votes\" : []}\n",
    "\n",
    "# #fill the structure with data\n",
    "# for year in prep1years:\n",
    "#     yearSelection = prep1orig[prep1orig[\"Year\"] == year]\n",
    "#     for voterCountry in prep1voters:\n",
    "#         voterSelection = yearSelection[yearSelection[\"From country\"] == voterCountry]\n",
    "#         for row in voterSelection.iterrows():\n",
    "#             prep1data[voterCountry][\"keys\"].append((row[1][\"To country\"], year))\n",
    "#             prep1data[voterCountry][\"votes\"].append(row[1][\"Points\"])"
   ]
  },
  {
   "cell_type": "code",
   "execution_count": 11,
   "metadata": {},
   "outputs": [],
   "source": [
    "# for item in prep1data.items():\n",
    "#     print(item[0])\n",
    "#     print(len(item[1][\"keys\"]))\n",
    "#     print(len(item[1][\"votes\"]))\n",
    "#     print()"
   ]
  },
  {
   "cell_type": "code",
   "execution_count": 20,
   "metadata": {},
   "outputs": [],
   "source": [
    "prep1years = prep1orig[\"Year\"].unique()\n",
    "prep1voters = prep1orig[\"From country\"].unique()\n",
    "prep1votedFor = prep1orig[\"To country\"].unique()\n",
    "\n",
    "prep1data = {}\n",
    "for i in range(len(prep1voters)):\n",
    "    voter = prep1voters[i]\n",
    "    prep1data[voter] = []\n",
    "\n",
    "for year in prep1years:\n",
    "    yearSelection = prep1orig[prep1orig[\"Year\"] == year]\n",
    "    for voter in prep1voters:\n",
    "        voterSelection = yearSelection[yearSelection[\"From country\"] == voter]\n",
    "        newVotes = []\n",
    "        for votedFor in prep1votedFor:\n",
    "            lineSelection = voterSelection[voterSelection[\"To country\"] == votedFor]\n",
    "            newVoteVal = NAN\n",
    "            if len(lineSelection[\"Points\"].values) > 0:\n",
    "                newVoteVal = lineSelection[\"Points\"].values[0]\n",
    "            newVotes.append(newVoteVal)\n",
    "        prep1data[voter] += newVotes"
   ]
  },
  {
   "cell_type": "markdown",
   "metadata": {},
   "source": [
    "### Clustering"
   ]
  },
  {
   "cell_type": "code",
   "execution_count": 21,
   "metadata": {},
   "outputs": [],
   "source": [
    "#params\n",
    "distance1 = hw0.euclidean_dist\n",
    "linkage1 = hw0.single_linkage\n",
    "distFun1 = lambda c1, c2: linkage1(c1, c2, distance1)"
   ]
  },
  {
   "cell_type": "code",
   "execution_count": 22,
   "metadata": {},
   "outputs": [],
   "source": [
    "hc1 = hw0.HierarchicalClustering(distFun1)\n",
    "clusters1 = hc1.run(prep1data)"
   ]
  },
  {
   "cell_type": "code",
   "execution_count": 23,
   "metadata": {},
   "outputs": [
    {
     "data": {
      "text/plain": [
       "[[[[[[[[[[[[[[[['Lithuania'], ['Latvia']], ['Estonia']], ['Ukraine']],\n",
       "            ['Poland']],\n",
       "           ['Belarus']],\n",
       "          [[[[[[[[[[[[[[[[[[[[[['San Marino'], ['Rest of the World']],\n",
       "                              ['Romania']],\n",
       "                             ['Azerbaijan']],\n",
       "                            ['Iceland']],\n",
       "                           ['Cyprus']],\n",
       "                          ['Malta']],\n",
       "                         ['Australia']],\n",
       "                        ['France']],\n",
       "                       ['Greece']],\n",
       "                      [[[[[[[[[[[[[[['Monaco'], ['Yugoslavia']],\n",
       "                                   ['Luxembourg']],\n",
       "                                  ['Spain']],\n",
       "                                 ['Austria']],\n",
       "                                ['Norway']],\n",
       "                               ['Netherlands']],\n",
       "                              ['United Kingdom']],\n",
       "                             ['Italy']],\n",
       "                            ['Germany']],\n",
       "                           ['Sweden']],\n",
       "                          ['North Macedonia']],\n",
       "                         ['Switzerland']],\n",
       "                        ['Belgium']],\n",
       "                       [[[['Turkey'], ['Serbia & Montenegro']],\n",
       "                         ['F.Y.R. Macedonia']],\n",
       "                        ['Slovenia']]]],\n",
       "                     ['Czech Republic']],\n",
       "                    ['Montenegro']],\n",
       "                   ['Portugal']],\n",
       "                  ['Finland']],\n",
       "                 ['Croatia']],\n",
       "                ['Serbia']],\n",
       "               ['Ireland']],\n",
       "              ['Bulgaria']],\n",
       "             ['Hungary']],\n",
       "            ['Bosnia & Herzegovina']],\n",
       "           ['Denmark']]],\n",
       "         ['Georgia']],\n",
       "        ['Russia']],\n",
       "       ['Andorra']],\n",
       "      [['Israel'], ['Moldova']]],\n",
       "     ['Albania']],\n",
       "    ['Armenia']],\n",
       "   ['Morocco']],\n",
       "  ['Slovakia']]]"
      ]
     },
     "execution_count": 23,
     "metadata": {},
     "output_type": "execute_result"
    }
   ],
   "source": [
    "clusters1"
   ]
  },
  {
   "cell_type": "markdown",
   "metadata": {},
   "source": [
    "### Visualization"
   ]
  }
 ],
 "metadata": {
  "kernelspec": {
   "display_name": "Python 3",
   "language": "python",
   "name": "python3"
  },
  "language_info": {
   "codemirror_mode": {
    "name": "ipython",
    "version": 3
   },
   "file_extension": ".py",
   "mimetype": "text/x-python",
   "name": "python",
   "nbconvert_exporter": "python",
   "pygments_lexer": "ipython3",
   "version": "3.11.2"
  }
 },
 "nbformat": 4,
 "nbformat_minor": 2
}
